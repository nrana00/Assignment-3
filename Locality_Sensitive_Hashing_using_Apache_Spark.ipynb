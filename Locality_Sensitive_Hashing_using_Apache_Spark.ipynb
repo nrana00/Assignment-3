{
  "nbformat": 4,
  "nbformat_minor": 0,
  "metadata": {
    "colab": {
      "provenance": [],
      "include_colab_link": true
    },
    "kernelspec": {
      "name": "python3",
      "display_name": "Python 3"
    },
    "language_info": {
      "name": "python"
    }
  },
  "cells": [
    {
      "cell_type": "markdown",
      "metadata": {
        "id": "view-in-github",
        "colab_type": "text"
      },
      "source": [
        "<a href=\"https://colab.research.google.com/github/nrana00/Assignment-3/blob/main/Locality_Sensitive_Hashing_using_Apache_Spark.ipynb\" target=\"_parent\"><img src=\"https://colab.research.google.com/assets/colab-badge.svg\" alt=\"Open In Colab\"/></a>"
      ]
    },
    {
      "cell_type": "markdown",
      "source": [
        "References:\n",
        "\n",
        "1. https://www.uber.com/en-ID/blog/lsh/\n",
        "2. https://stackoverflow.com/questions/56816537/cant-find-kaggle-json-file-in-google-colab\n",
        "3. https://spark.apache.org/docs/latest/api/python/index.html\n",
        "4. https://spark.apache.org/docs/latest/ml-features.html#locality-sensitive-hashing"
      ],
      "metadata": {
        "id": "kJsWdKQnP6gn"
      }
    },
    {
      "cell_type": "markdown",
      "source": [
        "# Initialization"
      ],
      "metadata": {
        "id": "SCLga4jHMSjW"
      }
    },
    {
      "cell_type": "markdown",
      "source": [
        "## Checking the Environment"
      ],
      "metadata": {
        "id": "eR27euuTMerj"
      }
    },
    {
      "cell_type": "code",
      "source": [
        "!java --version\n",
        "!python --version"
      ],
      "metadata": {
        "id": "FAqUDKAkMt_Q",
        "colab": {
          "base_uri": "https://localhost:8080/"
        },
        "outputId": "a721f356-8c7a-4d3b-ec79-b91b5d4787ee"
      },
      "execution_count": 31,
      "outputs": [
        {
          "output_type": "stream",
          "name": "stdout",
          "text": [
            "openjdk 11.0.18 2023-01-17\n",
            "OpenJDK Runtime Environment (build 11.0.18+10-post-Ubuntu-0ubuntu120.04.1)\n",
            "OpenJDK 64-Bit Server VM (build 11.0.18+10-post-Ubuntu-0ubuntu120.04.1, mixed mode, sharing)\n",
            "Python 3.9.16\n"
          ]
        }
      ]
    },
    {
      "cell_type": "markdown",
      "source": [
        "## Installing Apache Spark (PySpark)"
      ],
      "metadata": {
        "id": "Yrnt72iGMhUn"
      }
    },
    {
      "cell_type": "code",
      "source": [
        "!pip install pyspark"
      ],
      "metadata": {
        "id": "pPn_WTO3MzBC",
        "colab": {
          "base_uri": "https://localhost:8080/"
        },
        "outputId": "4c9f1e09-4623-4559-ce4c-449239512fc3"
      },
      "execution_count": 32,
      "outputs": [
        {
          "output_type": "stream",
          "name": "stdout",
          "text": [
            "Looking in indexes: https://pypi.org/simple, https://us-python.pkg.dev/colab-wheels/public/simple/\n",
            "Requirement already satisfied: pyspark in /usr/local/lib/python3.9/dist-packages (3.3.2)\n",
            "Requirement already satisfied: py4j==0.10.9.5 in /usr/local/lib/python3.9/dist-packages (from pyspark) (0.10.9.5)\n"
          ]
        }
      ]
    },
    {
      "cell_type": "markdown",
      "source": [
        "## Initialize Apache Spark context"
      ],
      "metadata": {
        "id": "o-Eqrng2M3yl"
      }
    },
    {
      "cell_type": "code",
      "source": [
        "# Import Apache Spark SQL\n",
        "from pyspark.sql import SparkSession\n",
        "\n",
        "# Create Spark Session/Context\n",
        "# We are using local machine with all the CPU cores [*]\n",
        "spark = SparkSession.builder \\\n",
        "    .master(\"local[*]\") \\\n",
        "    .appName(\"Hello Pyspark\") \\\n",
        "    .config(\"spark.some.config.option\", \"some-value\") \\\n",
        "    .getOrCreate()"
      ],
      "metadata": {
        "id": "KxFUGZy1M9NV"
      },
      "execution_count": 34,
      "outputs": []
    },
    {
      "cell_type": "code",
      "source": [
        "# Check spark session\n",
        "print(spark)"
      ],
      "metadata": {
        "id": "RVW4AfDkGnMy",
        "colab": {
          "base_uri": "https://localhost:8080/"
        },
        "outputId": "e008db3e-b805-4bbc-c0b1-9559ce4e8167"
      },
      "execution_count": 35,
      "outputs": [
        {
          "output_type": "stream",
          "name": "stdout",
          "text": [
            "<pyspark.sql.session.SparkSession object at 0x7f925def5280>\n"
          ]
        }
      ]
    },
    {
      "cell_type": "markdown",
      "source": [
        "# Data Mining Task\n",
        "\n",
        "The LSH task always consists of three steps:\n",
        "\n",
        "\n",
        "1. Converting original data into vectors\n",
        "2. Calculate the hash using MinHash algorithm\n",
        "3. Searching the similar pairs using k-Nearest Neighbor, or join algorithm.\n",
        "\n"
      ],
      "metadata": {
        "id": "rTqJYLL3MTlO"
      }
    },
    {
      "cell_type": "markdown",
      "source": [
        "## Downloading the dataset"
      ],
      "metadata": {
        "id": "fJKgQ1vxehDo"
      }
    },
    {
      "cell_type": "code",
      "source": [
        "!pip install kaggle"
      ],
      "metadata": {
        "id": "snRNGVHXMc2n",
        "colab": {
          "base_uri": "https://localhost:8080/"
        },
        "outputId": "180f9ba6-7e12-4161-9e3b-7e6266c64338"
      },
      "execution_count": 36,
      "outputs": [
        {
          "output_type": "stream",
          "name": "stdout",
          "text": [
            "Looking in indexes: https://pypi.org/simple, https://us-python.pkg.dev/colab-wheels/public/simple/\n",
            "Requirement already satisfied: kaggle in /usr/local/lib/python3.9/dist-packages (1.5.13)\n",
            "Requirement already satisfied: certifi in /usr/local/lib/python3.9/dist-packages (from kaggle) (2022.12.7)\n",
            "Requirement already satisfied: six>=1.10 in /usr/local/lib/python3.9/dist-packages (from kaggle) (1.15.0)\n",
            "Requirement already satisfied: python-slugify in /usr/local/lib/python3.9/dist-packages (from kaggle) (8.0.1)\n",
            "Requirement already satisfied: python-dateutil in /usr/local/lib/python3.9/dist-packages (from kaggle) (2.8.2)\n",
            "Requirement already satisfied: requests in /usr/local/lib/python3.9/dist-packages (from kaggle) (2.25.1)\n",
            "Requirement already satisfied: tqdm in /usr/local/lib/python3.9/dist-packages (from kaggle) (4.65.0)\n",
            "Requirement already satisfied: urllib3 in /usr/local/lib/python3.9/dist-packages (from kaggle) (1.26.14)\n",
            "Requirement already satisfied: text-unidecode>=1.3 in /usr/local/lib/python3.9/dist-packages (from python-slugify->kaggle) (1.3)\n",
            "Requirement already satisfied: idna<3,>=2.5 in /usr/local/lib/python3.9/dist-packages (from requests->kaggle) (2.10)\n",
            "Requirement already satisfied: chardet<5,>=3.0.2 in /usr/local/lib/python3.9/dist-packages (from requests->kaggle) (4.0.0)\n"
          ]
        }
      ]
    },
    {
      "cell_type": "code",
      "source": [
        "!mkdir ~/.kaggle/\n",
        "!touch ~/.kaggle/kaggle.json\n",
        "\n",
        "# PLEASE USE YOUR OWN KEY\n",
        "# Download your own key according to this instruction https://github.com/Kaggle/kaggle-api#api-credentials\n",
        "\n",
        "api_token = {\"username\":\"chekunurulfarhana\",\"key\":\"ae8847415212d7cc9e8ceeeb8fb07086\"}\n",
        "\n",
        "import json\n",
        "\n",
        "with open('/root/.kaggle/kaggle.json', 'w') as file:\n",
        "    json.dump(api_token, file)\n",
        "\n",
        "!chmod 600 ~/.kaggle/kaggle.json"
      ],
      "metadata": {
        "id": "bCfvcmJkOh90",
        "colab": {
          "base_uri": "https://localhost:8080/"
        },
        "outputId": "f995f710-e350-4baf-f7dc-100b107dea0f"
      },
      "execution_count": 37,
      "outputs": [
        {
          "output_type": "stream",
          "name": "stdout",
          "text": [
            "mkdir: cannot create directory ‘/root/.kaggle/’: File exists\n"
          ]
        }
      ]
    },
    {
      "cell_type": "code",
      "source": [
        "# Download from https://www.kaggle.com/datasets/urbanbricks/wikipedia-promotional-articles\n",
        "\n",
        "!kaggle datasets download -d urbanbricks/wikipedia-promotional-articles"
      ],
      "metadata": {
        "id": "GsPLp0NTPllf",
        "colab": {
          "base_uri": "https://localhost:8080/"
        },
        "outputId": "c24fb5eb-1719-493e-864a-e172968ad40e"
      },
      "execution_count": 38,
      "outputs": [
        {
          "output_type": "stream",
          "name": "stdout",
          "text": [
            "wikipedia-promotional-articles.zip: Skipping, found more recently modified local copy (use --force to force download)\n"
          ]
        }
      ]
    },
    {
      "cell_type": "code",
      "source": [
        "!unzip wikipedia-promotional-articles.zip"
      ],
      "metadata": {
        "id": "Vc3PbKwXQRoU",
        "colab": {
          "base_uri": "https://localhost:8080/"
        },
        "outputId": "c662c2cd-1754-41cc-e08d-2b9ea7ce0cf7"
      },
      "execution_count": 39,
      "outputs": [
        {
          "output_type": "stream",
          "name": "stdout",
          "text": [
            "Archive:  wikipedia-promotional-articles.zip\n",
            "replace good.csv? [y]es, [n]o, [A]ll, [N]one, [r]ename: y\n",
            "  inflating: good.csv                "
          ]
        }
      ]
    },
    {
      "cell_type": "code",
      "source": [
        "!ls -la"
      ],
      "metadata": {
        "id": "R4Lyz6kMOMrZ",
        "colab": {
          "base_uri": "https://localhost:8080/"
        },
        "outputId": "5ec35c51-5db0-4c25-9bbc-f0d3d4ac8a21"
      },
      "execution_count": 40,
      "outputs": [
        {
          "output_type": "stream",
          "name": "stdout",
          "text": [
            "total 625292\n",
            "drwxr-xr-x 1 root root      4096 Mar  9 09:23 .\n",
            "drwxr-xr-x 1 root root      4096 Mar  9 08:23 ..\n",
            "drwxr-xr-x 4 root root      4096 Mar  7 18:12 .config\n",
            "-rw-r--r-- 1 root root 314048512 Mar  9 09:23 good.csv\n",
            "-rw-r--r-- 1 root root 115360355 Oct 27  2019 promotional.csv\n",
            "-rw-r--r-- 1 root root        47 Mar  9 09:19 result.csv\n",
            "drwxr-xr-x 1 root root      4096 Mar  7 18:14 sample_data\n",
            "-rw-r--r-- 1 root root 210863294 Mar  9 08:31 wikipedia-promotional-articles.zip\n"
          ]
        }
      ]
    },
    {
      "cell_type": "markdown",
      "source": [
        "## Read the dataset"
      ],
      "metadata": {
        "id": "LGe47j_-ercu"
      }
    },
    {
      "cell_type": "code",
      "source": [
        "# Read CSV\n",
        "df = spark.read.option(\"header\", True).csv(\"/content/promotional.csv\")\n",
        "df.printSchema()"
      ],
      "metadata": {
        "id": "ymmgwA1eSaYq",
        "colab": {
          "base_uri": "https://localhost:8080/"
        },
        "outputId": "03cdc1d2-65a4-4b78-de21-fea4d67d7748"
      },
      "execution_count": 41,
      "outputs": [
        {
          "output_type": "stream",
          "name": "stdout",
          "text": [
            "root\n",
            " |-- text: string (nullable = true)\n",
            " |-- advert: string (nullable = true)\n",
            " |-- coi: string (nullable = true)\n",
            " |-- fanpov: string (nullable = true)\n",
            " |-- pr: string (nullable = true)\n",
            " |-- resume: string (nullable = true)\n",
            " |-- url: string (nullable = true)\n",
            "\n"
          ]
        }
      ]
    },
    {
      "cell_type": "code",
      "source": [
        "# Add an ID for the dataset\n",
        "from pyspark.sql.functions import monotonically_increasing_id\n",
        "\n",
        "newsDF = df.withColumn(\"id\", monotonically_increasing_id())\n",
        "newsDF.show()"
      ],
      "metadata": {
        "colab": {
          "base_uri": "https://localhost:8080/"
        },
        "id": "lPESq0DI83oT",
        "outputId": "1eb7683d-188d-4507-a9d2-77ba14decd1d"
      },
      "execution_count": 42,
      "outputs": [
        {
          "output_type": "stream",
          "name": "stdout",
          "text": [
            "+--------------------+------+---+------+---+------+--------------------+---+\n",
            "|                text|advert|coi|fanpov| pr|resume|                 url| id|\n",
            "+--------------------+------+---+------+---+------+--------------------+---+\n",
            "|1 Litre no Namida...|     0|  0|     1|  0|     0|https://en.wikipe...|  0|\n",
            "|1DayLater was fre...|     1|  1|     0|  0|     0|https://en.wikipe...|  1|\n",
            "|1E is a privately...|     1|  0|     0|  0|     0|https://en.wikipe...|  2|\n",
            "|1Malaysia pronoun...|     1|  0|     0|  0|     0|https://en.wikipe...|  3|\n",
            "|The Jerusalem Bie...|     1|  0|     0|  0|     0|https://en.wikipe...|  4|\n",
            "|1st Round Enterpr...|     0|  0|     0|  1|     0|https://en.wikipe...|  5|\n",
            "|2ergo is a provid...|     1|  0|     0|  0|     0|https://en.wikipe...|  6|\n",
            "|2N Telekomunikace...|     1|  0|     0|  0|     0|https://en.wikipe...|  7|\n",
            "|A 3D printing mar...|     1|  0|     0|  0|     0|https://en.wikipe...|  8|\n",
            "|3DR is an America...|     1|  1|     0|  0|     0|https://en.wikipe...|  9|\n",
            "|3D Systems, headq...|     1|  0|     0|  0|     0|https://en.wikipe...| 10|\n",
            "|3Delight, is 3D c...|     0|  0|     0|  0|     1|https://en.wikipe...| 11|\n",
            "|3DVIA is a brand ...|     1|  1|     0|  0|     0|https://en.wikipe...| 12|\n",
            "|3i Infotech Ltd e...|     1|  0|     0|  0|     0|https://en.wikipe...| 13|\n",
            "|3logy is the Pino...|     1|  0|     0|  0|     0|https://en.wikipe...| 14|\n",
            "|The 4 Hour Chef T...|     1|  0|     0|  1|     0|https://en.wikipe...| 15|\n",
            "|4Children was a c...|     1|  1|     0|  0|     0|https://en.wikipe...| 16|\n",
            "|If this article d...|     1|  0|     0|  0|     0|https://en.wikipe...| 17|\n",
            "|4G Americas is a ...|     0|  0|     0|  1|     0|https://en.wikipe...| 18|\n",
            "|4MMM identified o...|     1|  0|     0|  0|     0|https://en.wikipe...| 19|\n",
            "+--------------------+------+---+------+---+------+--------------------+---+\n",
            "only showing top 20 rows\n",
            "\n"
          ]
        }
      ]
    },
    {
      "cell_type": "code",
      "source": [
        "# Get the total rows\n",
        "newsDF.count()"
      ],
      "metadata": {
        "id": "IIZN5Ejkh3w7",
        "colab": {
          "base_uri": "https://localhost:8080/"
        },
        "outputId": "3226f579-2053-4cc1-b01d-d20c3aa4a88c"
      },
      "execution_count": 43,
      "outputs": [
        {
          "output_type": "execute_result",
          "data": {
            "text/plain": [
              "23837"
            ]
          },
          "metadata": {},
          "execution_count": 43
        }
      ]
    },
    {
      "cell_type": "markdown",
      "source": [
        "## 1. Prepare the tokenizer\n",
        "\n",
        "We transform the input into tokenized words."
      ],
      "metadata": {
        "id": "T5MC7DdtT8MQ"
      }
    },
    {
      "cell_type": "code",
      "source": [
        "# Prepare the tokenizer\n",
        "from pyspark.ml.feature import Tokenizer\n",
        "\n",
        "tokenizer = Tokenizer(inputCol=\"text\", outputCol=\"words\")\n",
        "wordsDF = tokenizer.transform(newsDF)\n",
        "\n",
        "wordsDF.show()"
      ],
      "metadata": {
        "id": "pLXIayWqS_3O",
        "colab": {
          "base_uri": "https://localhost:8080/"
        },
        "outputId": "74603f9b-015e-4481-fc03-76bfcd876cd9"
      },
      "execution_count": 44,
      "outputs": [
        {
          "output_type": "stream",
          "name": "stdout",
          "text": [
            "+--------------------+------+---+------+---+------+--------------------+---+--------------------+\n",
            "|                text|advert|coi|fanpov| pr|resume|                 url| id|               words|\n",
            "+--------------------+------+---+------+---+------+--------------------+---+--------------------+\n",
            "|1 Litre no Namida...|     0|  0|     1|  0|     0|https://en.wikipe...|  0|[1, litre, no, na...|\n",
            "|1DayLater was fre...|     1|  1|     0|  0|     0|https://en.wikipe...|  1|[1daylater, was, ...|\n",
            "|1E is a privately...|     1|  0|     0|  0|     0|https://en.wikipe...|  2|[1e, is, a, priva...|\n",
            "|1Malaysia pronoun...|     1|  0|     0|  0|     0|https://en.wikipe...|  3|[1malaysia, prono...|\n",
            "|The Jerusalem Bie...|     1|  0|     0|  0|     0|https://en.wikipe...|  4|[the, jerusalem, ...|\n",
            "|1st Round Enterpr...|     0|  0|     0|  1|     0|https://en.wikipe...|  5|[1st, round, ente...|\n",
            "|2ergo is a provid...|     1|  0|     0|  0|     0|https://en.wikipe...|  6|[2ergo, is, a, pr...|\n",
            "|2N Telekomunikace...|     1|  0|     0|  0|     0|https://en.wikipe...|  7|[2n, telekomunika...|\n",
            "|A 3D printing mar...|     1|  0|     0|  0|     0|https://en.wikipe...|  8|[a, 3d, printing,...|\n",
            "|3DR is an America...|     1|  1|     0|  0|     0|https://en.wikipe...|  9|[3dr, is, an, ame...|\n",
            "|3D Systems, headq...|     1|  0|     0|  0|     0|https://en.wikipe...| 10|[3d, systems,, he...|\n",
            "|3Delight, is 3D c...|     0|  0|     0|  0|     1|https://en.wikipe...| 11|[3delight,, is, 3...|\n",
            "|3DVIA is a brand ...|     1|  1|     0|  0|     0|https://en.wikipe...| 12|[3dvia, is, a, br...|\n",
            "|3i Infotech Ltd e...|     1|  0|     0|  0|     0|https://en.wikipe...| 13|[3i, infotech, lt...|\n",
            "|3logy is the Pino...|     1|  0|     0|  0|     0|https://en.wikipe...| 14|[3logy, is, the, ...|\n",
            "|The 4 Hour Chef T...|     1|  0|     0|  1|     0|https://en.wikipe...| 15|[the, 4, hour, ch...|\n",
            "|4Children was a c...|     1|  1|     0|  0|     0|https://en.wikipe...| 16|[4children, was, ...|\n",
            "|If this article d...|     1|  0|     0|  0|     0|https://en.wikipe...| 17|[if, this, articl...|\n",
            "|4G Americas is a ...|     0|  0|     0|  1|     0|https://en.wikipe...| 18|[4g, americas, is...|\n",
            "|4MMM identified o...|     1|  0|     0|  0|     0|https://en.wikipe...| 19|[4mmm, identified...|\n",
            "+--------------------+------+---+------+---+------+--------------------+---+--------------------+\n",
            "only showing top 20 rows\n",
            "\n"
          ]
        }
      ]
    },
    {
      "cell_type": "code",
      "source": [
        "# Vectorize the dataset\n",
        "from pyspark.ml.feature import CountVectorizer\n",
        "\n",
        "vocabSize=1000\n",
        "\n",
        "# Train the CountVectorizer Model using our data\n",
        "cvModel = CountVectorizer(inputCol=\"words\", outputCol=\"features\", vocabSize=vocabSize, minDF=10).fit(wordsDF)\n",
        "\n",
        "# Transform our data into vector\n",
        "vectorizedDF = cvModel.transform(wordsDF)\n",
        "vectorizedDF.show()"
      ],
      "metadata": {
        "id": "v3imdzxvU9Gq",
        "colab": {
          "base_uri": "https://localhost:8080/"
        },
        "outputId": "26f48231-444d-4e79-fad2-7d8901bee13d"
      },
      "execution_count": 45,
      "outputs": [
        {
          "output_type": "stream",
          "name": "stdout",
          "text": [
            "+--------------------+------+---+------+---+------+--------------------+---+--------------------+--------------------+\n",
            "|                text|advert|coi|fanpov| pr|resume|                 url| id|               words|            features|\n",
            "+--------------------+------+---+------+---+------+--------------------+---+--------------------+--------------------+\n",
            "|1 Litre no Namida...|     0|  0|     1|  0|     0|https://en.wikipe...|  0|[1, litre, no, na...|(1000,[0,1,2,3,4,...|\n",
            "|1DayLater was fre...|     1|  1|     0|  0|     0|https://en.wikipe...|  1|[1daylater, was, ...|(1000,[0,1,2,3,4,...|\n",
            "|1E is a privately...|     1|  0|     0|  0|     0|https://en.wikipe...|  2|[1e, is, a, priva...|(1000,[0,1,2,3,4,...|\n",
            "|1Malaysia pronoun...|     1|  0|     0|  0|     0|https://en.wikipe...|  3|[1malaysia, prono...|(1000,[0,1,2,3,4,...|\n",
            "|The Jerusalem Bie...|     1|  0|     0|  0|     0|https://en.wikipe...|  4|[the, jerusalem, ...|(1000,[0,1,2,3,4,...|\n",
            "|1st Round Enterpr...|     0|  0|     0|  1|     0|https://en.wikipe...|  5|[1st, round, ente...|(1000,[0,1,2,3,4,...|\n",
            "|2ergo is a provid...|     1|  0|     0|  0|     0|https://en.wikipe...|  6|[2ergo, is, a, pr...|(1000,[0,1,2,3,4,...|\n",
            "|2N Telekomunikace...|     1|  0|     0|  0|     0|https://en.wikipe...|  7|[2n, telekomunika...|(1000,[0,1,2,3,4,...|\n",
            "|A 3D printing mar...|     1|  0|     0|  0|     0|https://en.wikipe...|  8|[a, 3d, printing,...|(1000,[0,1,2,3,4,...|\n",
            "|3DR is an America...|     1|  1|     0|  0|     0|https://en.wikipe...|  9|[3dr, is, an, ame...|(1000,[0,1,2,3,4,...|\n",
            "|3D Systems, headq...|     1|  0|     0|  0|     0|https://en.wikipe...| 10|[3d, systems,, he...|(1000,[0,1,2,3,4,...|\n",
            "|3Delight, is 3D c...|     0|  0|     0|  0|     1|https://en.wikipe...| 11|[3delight,, is, 3...|(1000,[0,1,2,3,4,...|\n",
            "|3DVIA is a brand ...|     1|  1|     0|  0|     0|https://en.wikipe...| 12|[3dvia, is, a, br...|(1000,[0,1,2,3,4,...|\n",
            "|3i Infotech Ltd e...|     1|  0|     0|  0|     0|https://en.wikipe...| 13|[3i, infotech, lt...|(1000,[0,1,2,3,4,...|\n",
            "|3logy is the Pino...|     1|  0|     0|  0|     0|https://en.wikipe...| 14|[3logy, is, the, ...|(1000,[0,1,2,3,4,...|\n",
            "|The 4 Hour Chef T...|     1|  0|     0|  1|     0|https://en.wikipe...| 15|[the, 4, hour, ch...|(1000,[0,1,2,3,4,...|\n",
            "|4Children was a c...|     1|  1|     0|  0|     0|https://en.wikipe...| 16|[4children, was, ...|(1000,[0,1,2,3,4,...|\n",
            "|If this article d...|     1|  0|     0|  0|     0|https://en.wikipe...| 17|[if, this, articl...|(1000,[0,1,2,3,4,...|\n",
            "|4G Americas is a ...|     0|  0|     0|  1|     0|https://en.wikipe...| 18|[4g, americas, is...|(1000,[0,1,2,3,4,...|\n",
            "|4MMM identified o...|     1|  0|     0|  0|     0|https://en.wikipe...| 19|[4mmm, identified...|(1000,[0,1,2,3,4,...|\n",
            "+--------------------+------+---+------+---+------+--------------------+---+--------------------+--------------------+\n",
            "only showing top 20 rows\n",
            "\n"
          ]
        }
      ]
    },
    {
      "cell_type": "markdown",
      "source": [
        "## 2. Fit/train an LSH Model"
      ],
      "metadata": {
        "id": "5n6CaBKZXDoV"
      }
    },
    {
      "cell_type": "code",
      "source": [
        "from  pyspark.ml.feature import MinHashLSH\n",
        "\n",
        "mh = MinHashLSH(inputCol=\"features\", outputCol=\"hashValues\", numHashTables=3)\n",
        "LSHmodel = mh.fit(vectorizedDF)\n",
        "\n",
        "LSHmodel.transform(vectorizedDF).show()"
      ],
      "metadata": {
        "id": "hBHCdPaoWl8W",
        "colab": {
          "base_uri": "https://localhost:8080/"
        },
        "outputId": "f84c3af0-9c5d-4782-bda6-99df5e9607b0"
      },
      "execution_count": 46,
      "outputs": [
        {
          "output_type": "stream",
          "name": "stdout",
          "text": [
            "+--------------------+------+---+------+---+------+--------------------+---+--------------------+--------------------+--------------------+\n",
            "|                text|advert|coi|fanpov| pr|resume|                 url| id|               words|            features|          hashValues|\n",
            "+--------------------+------+---+------+---+------+--------------------+---+--------------------+--------------------+--------------------+\n",
            "|1 Litre no Namida...|     0|  0|     1|  0|     0|https://en.wikipe...|  0|[1, litre, no, na...|(1000,[0,1,2,3,4,...|[[5308446.0], [1....|\n",
            "|1DayLater was fre...|     1|  1|     0|  0|     0|https://en.wikipe...|  1|[1daylater, was, ...|(1000,[0,1,2,3,4,...|[[3371199.0], [2....|\n",
            "|1E is a privately...|     1|  0|     0|  0|     0|https://en.wikipe...|  2|[1e, is, a, priva...|(1000,[0,1,2,3,4,...|[[1433952.0], [56...|\n",
            "|1Malaysia pronoun...|     1|  0|     0|  0|     0|https://en.wikipe...|  3|[1malaysia, prono...|(1000,[0,1,2,3,4,...|[[1433952.0], [1....|\n",
            "|The Jerusalem Bie...|     1|  0|     0|  0|     0|https://en.wikipe...|  4|[the, jerusalem, ...|(1000,[0,1,2,3,4,...|[[3.4452774E7], [...|\n",
            "|1st Round Enterpr...|     0|  0|     0|  1|     0|https://en.wikipe...|  5|[1st, round, ente...|(1000,[0,1,2,3,4,...|[[2.2155002E7], [...|\n",
            "|2ergo is a provid...|     1|  0|     0|  0|     0|https://en.wikipe...|  6|[2ergo, is, a, pr...|(1000,[0,1,2,3,4,...|[[1.7943363E7], [...|\n",
            "|2N Telekomunikace...|     1|  0|     0|  0|     0|https://en.wikipe...|  7|[2n, telekomunika...|(1000,[0,1,2,3,4,...|[[5308446.0], [1....|\n",
            "|A 3D printing mar...|     1|  0|     0|  0|     0|https://en.wikipe...|  8|[a, 3d, printing,...|(1000,[0,1,2,3,4,...|[[3371199.0], [63...|\n",
            "|3DR is an America...|     1|  1|     0|  0|     0|https://en.wikipe...|  9|[3dr, is, an, ame...|(1000,[0,1,2,3,4,...|[[3371199.0], [44...|\n",
            "|3D Systems, headq...|     1|  0|     0|  0|     0|https://en.wikipe...| 10|[3d, systems,, he...|(1000,[0,1,2,3,4,...|[[3371199.0], [44...|\n",
            "|3Delight, is 3D c...|     0|  0|     0|  0|     1|https://en.wikipe...| 11|[3delight,, is, 3...|(1000,[0,1,2,3,4,...|[[3371199.0], [1....|\n",
            "|3DVIA is a brand ...|     1|  1|     0|  0|     0|https://en.wikipe...| 12|[3dvia, is, a, br...|(1000,[0,1,2,3,4,...|[[1.5668971E7], [...|\n",
            "|3i Infotech Ltd e...|     1|  0|     0|  0|     0|https://en.wikipe...| 13|[3i, infotech, lt...|(1000,[0,1,2,3,4,...|[[3.6390021E7], [...|\n",
            "|3logy is the Pino...|     1|  0|     0|  0|     0|https://en.wikipe...| 14|[3logy, is, the, ...|(1000,[0,1,2,3,4,...|[[1.1794477E7], [...|\n",
            "|The 4 Hour Chef T...|     1|  0|     0|  1|     0|https://en.wikipe...| 15|[the, 4, hour, ch...|(1000,[0,1,2,3,4,...|[[4.060166E7], [4...|\n",
            "|4Children was a c...|     1|  1|     0|  0|     0|https://en.wikipe...| 16|[4children, was, ...|(1000,[0,1,2,3,4,...|[[1433952.0], [44...|\n",
            "|If this article d...|     1|  0|     0|  0|     0|https://en.wikipe...| 17|[if, this, articl...|(1000,[0,1,2,3,4,...|[[7582838.0], [44...|\n",
            "|4G Americas is a ...|     0|  0|     0|  1|     0|https://en.wikipe...| 18|[4g, americas, is...|(1000,[0,1,2,3,4,...|[[4.6750546E7], [...|\n",
            "|4MMM identified o...|     1|  0|     0|  0|     0|https://en.wikipe...| 19|[4mmm, identified...|(1000,[0,1,2,3,4,...|[[3371199.0], [63...|\n",
            "+--------------------+------+---+------+---+------+--------------------+---+--------------------+--------------------+--------------------+\n",
            "only showing top 20 rows\n",
            "\n"
          ]
        }
      ]
    },
    {
      "cell_type": "markdown",
      "source": [
        "## 3. Searching the similar pairs/items for a key \"an\" and \"annual\""
      ],
      "metadata": {
        "id": "zItyQZ4-YASX"
      }
    },
    {
      "cell_type": "code",
      "source": [
        "print(cvModel.vocabulary.index(\"an\"))\n",
        "print(cvModel.vocabulary.index(\"annual\"))"
      ],
      "metadata": {
        "colab": {
          "base_uri": "https://localhost:8080/"
        },
        "id": "rE_xRWD4Ah0f",
        "outputId": "606179dd-ab24-4dea-b03a-c71199bc6d42"
      },
      "execution_count": 47,
      "outputs": [
        {
          "output_type": "stream",
          "name": "stdout",
          "text": [
            "16\n",
            "314\n"
          ]
        }
      ]
    },
    {
      "cell_type": "code",
      "source": [
        "# Testing searching for \"an\" \"annual\"\n",
        "\n",
        "from pyspark.ml.linalg import Vectors\n",
        "\n",
        "\n",
        "# Convert the input with 3 words into 1000 size vectors\n",
        "# If the words exist in the index we will give value = 1.0, otherwise 0.0\n",
        "# Final result: key = [0, 0, ... , 1.0, ..., 1.0, 1.0, ....]\n",
        "\n",
        "key = Vectors.sparse(vocabSize, {cvModel.vocabulary.index(\"civil\"): 1.0, cvModel.vocabulary.index(\"war\"): 1.0})"
      ],
      "metadata": {
        "id": "i9AaCBF_XzK7"
      },
      "execution_count": 48,
      "outputs": []
    },
    {
      "cell_type": "code",
      "source": [
        "# Define the number of neighbours\n",
        "k = 40\n",
        "\n",
        "# Search inside LSH model that we already trained\n",
        "resultDF = LSHmodel.approxNearestNeighbors(vectorizedDF, key, k)\n",
        "resultDF.show()"
      ],
      "metadata": {
        "id": "-EE3IJn1R77O",
        "colab": {
          "base_uri": "https://localhost:8080/"
        },
        "outputId": "ddc3936b-984d-4120-dcd4-23ddbc7166cc"
      },
      "execution_count": 49,
      "outputs": [
        {
          "output_type": "stream",
          "name": "stdout",
          "text": [
            "+----+------+---+------+---+------+---+---+-----+--------+----------+-------+\n",
            "|text|advert|coi|fanpov| pr|resume|url| id|words|features|hashValues|distCol|\n",
            "+----+------+---+------+---+------+---+---+-----+--------+----------+-------+\n",
            "+----+------+---+------+---+------+---+---+-----+--------+----------+-------+\n",
            "\n"
          ]
        }
      ]
    },
    {
      "cell_type": "code",
      "source": [
        "# Save the result into CSV\n",
        "import pandas as pd\n",
        "\n",
        "data = resultDF.toPandas()\n",
        "data.to_csv(\"result.csv\")"
      ],
      "metadata": {
        "id": "3x38VwRbdJGY"
      },
      "execution_count": 50,
      "outputs": []
    }
  ]
}